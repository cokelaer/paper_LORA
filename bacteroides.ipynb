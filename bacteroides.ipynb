{
 "cells": [
  {
   "cell_type": "markdown",
   "id": "2f9fe837-97c9-4bfa-998c-8d0d1018af04",
   "metadata": {},
   "source": [
    "# Materials and code to create images of the LORA paper's annex (bacteroides)"
   ]
  },
  {
   "cell_type": "code",
   "execution_count": 3,
   "id": "3168770b-b4ec-4286-89f8-b9e02d89b2f0",
   "metadata": {},
   "outputs": [],
   "source": [
    "%matplotlib inline\n",
    "from pylab import *"
   ]
  },
  {
   "cell_type": "code",
   "execution_count": 4,
   "id": "7af8e521-4bdc-4a9c-b57a-6517f557b358",
   "metadata": {},
   "outputs": [],
   "source": [
    "rcParams['figure.figsize'] = (8,8)"
   ]
  },
  {
   "cell_type": "code",
   "execution_count": 5,
   "id": "8da8cfe8-05e1-4143-a62d-380547daac90",
   "metadata": {},
   "outputs": [],
   "source": [
    "import pandas as pd\n",
    "import glob\n",
    "from tqdm import tqdm\n",
    "from sequana import *\n",
    "from sequana.pacbio import PacbioSubreads"
   ]
  },
  {
   "cell_type": "code",
   "execution_count": 6,
   "id": "d15523c9-1faf-4493-8e10-188734ce3103",
   "metadata": {},
   "outputs": [
    {
     "data": {
      "text/plain": [
       "<module 'utils' from '/home/cokelaer/Work/1_Projects/LORA/paper_LORA/utils.py'>"
      ]
     },
     "execution_count": 6,
     "metadata": {},
     "output_type": "execute_result"
    }
   ],
   "source": [
    "import importlib\n",
    "import utils  # your module\n",
    "importlib.reload(utils)"
   ]
  },
  {
   "cell_type": "markdown",
   "id": "4f8c59f3-a77f-4afb-990f-e9ab92277ac6",
   "metadata": {},
   "source": [
    "# bacteroide fragilis\n",
    "\n",
    "This is a multi sample data set with 7 samples. Let us start with some stats about the nanopore data set"
   ]
  },
  {
   "cell_type": "markdown",
   "id": "05cc9a2c-ff10-48a8-b0a6-9e75c5e9e8de",
   "metadata": {},
   "source": [
    "## Download data"
   ]
  },
  {
   "cell_type": "code",
   "execution_count": 7,
   "id": "15898e08-3f87-4b7b-b155-aa193053428f",
   "metadata": {},
   "outputs": [
    {
     "name": "stdout",
     "output_type": "stream",
     "text": [
      "✅ nBFO17.fastq.gz already exists, skipping.\n",
      "✅ nBFO18.fastq.gz already exists, skipping.\n",
      "✅ nBFO42.fastq.gz already exists, skipping.\n",
      "✅ nBFO67.fastq.gz already exists, skipping.\n",
      "✅ nBFO85.fastq.gz already exists, skipping.\n",
      "✅ nCCUG4856T.fastq.gz already exists, skipping.\n",
      "✅ nS01.fastq.gz already exists, skipping.\n"
     ]
    },
    {
     "name": "stderr",
     "output_type": "stream",
     "text": [
      "rm: cannot remove 'data/bacteroides_fragilis/*TVS*gz': No such file or directory\n"
     ]
    }
   ],
   "source": [
    "utils.download_bacteroides_data()"
   ]
  },
  {
   "cell_type": "code",
   "execution_count": 8,
   "id": "76792edf-7fb2-46da-bdad-11ed1d800bc6",
   "metadata": {},
   "outputs": [
    {
     "name": "stderr",
     "output_type": "stream",
     "text": [
      "100%|███████████████████████████████████████████████████████████████████████████████████████████████████████████████████████████████████████████████████████████████████████████████████████████████████████████| 7/7 [00:56<00:00,  8.10s/it]\n"
     ]
    },
    {
     "data": {
      "text/html": [
       "<div>\n",
       "<style scoped>\n",
       "    .dataframe tbody tr th:only-of-type {\n",
       "        vertical-align: middle;\n",
       "    }\n",
       "\n",
       "    .dataframe tbody tr th {\n",
       "        vertical-align: top;\n",
       "    }\n",
       "\n",
       "    .dataframe thead th {\n",
       "        text-align: right;\n",
       "    }\n",
       "</style>\n",
       "<table border=\"1\" class=\"dataframe\">\n",
       "  <thead>\n",
       "    <tr style=\"text-align: right;\">\n",
       "      <th></th>\n",
       "      <th>nBFO17</th>\n",
       "      <th>nBFO18</th>\n",
       "      <th>nBFO42</th>\n",
       "      <th>nBFO67</th>\n",
       "      <th>nBFO85</th>\n",
       "      <th>nCCUG4856T</th>\n",
       "      <th>nS01</th>\n",
       "    </tr>\n",
       "  </thead>\n",
       "  <tbody>\n",
       "    <tr>\n",
       "      <th>N</th>\n",
       "      <td>9.626700e+04</td>\n",
       "      <td>2.009900e+04</td>\n",
       "      <td>3.049670e+05</td>\n",
       "      <td>1.278620e+05</td>\n",
       "      <td>7.559800e+04</td>\n",
       "      <td>4.998000e+04</td>\n",
       "      <td>5.043900e+04</td>\n",
       "    </tr>\n",
       "    <tr>\n",
       "      <th>mean_length</th>\n",
       "      <td>6.454056e+03</td>\n",
       "      <td>6.059194e+03</td>\n",
       "      <td>6.264417e+03</td>\n",
       "      <td>5.897013e+03</td>\n",
       "      <td>7.205466e+03</td>\n",
       "      <td>5.897215e+03</td>\n",
       "      <td>8.002076e+03</td>\n",
       "    </tr>\n",
       "    <tr>\n",
       "      <th>total_length</th>\n",
       "      <td>6.213126e+08</td>\n",
       "      <td>1.217837e+08</td>\n",
       "      <td>1.910441e+09</td>\n",
       "      <td>7.540039e+08</td>\n",
       "      <td>5.447188e+08</td>\n",
       "      <td>2.947428e+08</td>\n",
       "      <td>4.036167e+08</td>\n",
       "    </tr>\n",
       "    <tr>\n",
       "      <th>N50</th>\n",
       "      <td>1.204000e+04</td>\n",
       "      <td>1.202300e+04</td>\n",
       "      <td>1.212800e+04</td>\n",
       "      <td>1.225100e+04</td>\n",
       "      <td>1.568500e+04</td>\n",
       "      <td>1.205300e+04</td>\n",
       "      <td>1.540100e+04</td>\n",
       "    </tr>\n",
       "    <tr>\n",
       "      <th>L50</th>\n",
       "      <td>1.441000e+04</td>\n",
       "      <td>2.716000e+03</td>\n",
       "      <td>4.273700e+04</td>\n",
       "      <td>1.595000e+04</td>\n",
       "      <td>9.269000e+03</td>\n",
       "      <td>6.557000e+03</td>\n",
       "      <td>7.270000e+03</td>\n",
       "    </tr>\n",
       "    <tr>\n",
       "      <th>min_length</th>\n",
       "      <td>3.900000e+01</td>\n",
       "      <td>3.200000e+01</td>\n",
       "      <td>1.300000e+01</td>\n",
       "      <td>9.000000e+00</td>\n",
       "      <td>1.100000e+01</td>\n",
       "      <td>4.400000e+01</td>\n",
       "      <td>2.300000e+01</td>\n",
       "    </tr>\n",
       "    <tr>\n",
       "      <th>max_length</th>\n",
       "      <td>1.093410e+05</td>\n",
       "      <td>1.116290e+05</td>\n",
       "      <td>1.343820e+05</td>\n",
       "      <td>1.234930e+05</td>\n",
       "      <td>1.371230e+05</td>\n",
       "      <td>1.158430e+05</td>\n",
       "      <td>1.258020e+05</td>\n",
       "    </tr>\n",
       "    <tr>\n",
       "      <th>mean_read_length</th>\n",
       "      <td>6.454056e+03</td>\n",
       "      <td>6.059194e+03</td>\n",
       "      <td>6.264417e+03</td>\n",
       "      <td>5.897013e+03</td>\n",
       "      <td>7.205466e+03</td>\n",
       "      <td>5.897215e+03</td>\n",
       "      <td>8.002076e+03</td>\n",
       "    </tr>\n",
       "    <tr>\n",
       "      <th>sum_read_length</th>\n",
       "      <td>6.213126e+08</td>\n",
       "      <td>1.217837e+08</td>\n",
       "      <td>1.910441e+09</td>\n",
       "      <td>7.540039e+08</td>\n",
       "      <td>5.447188e+08</td>\n",
       "      <td>2.947428e+08</td>\n",
       "      <td>4.036167e+08</td>\n",
       "    </tr>\n",
       "  </tbody>\n",
       "</table>\n",
       "</div>"
      ],
      "text/plain": [
       "                        nBFO17        nBFO18        nBFO42        nBFO67  \\\n",
       "N                 9.626700e+04  2.009900e+04  3.049670e+05  1.278620e+05   \n",
       "mean_length       6.454056e+03  6.059194e+03  6.264417e+03  5.897013e+03   \n",
       "total_length      6.213126e+08  1.217837e+08  1.910441e+09  7.540039e+08   \n",
       "N50               1.204000e+04  1.202300e+04  1.212800e+04  1.225100e+04   \n",
       "L50               1.441000e+04  2.716000e+03  4.273700e+04  1.595000e+04   \n",
       "min_length        3.900000e+01  3.200000e+01  1.300000e+01  9.000000e+00   \n",
       "max_length        1.093410e+05  1.116290e+05  1.343820e+05  1.234930e+05   \n",
       "mean_read_length  6.454056e+03  6.059194e+03  6.264417e+03  5.897013e+03   \n",
       "sum_read_length   6.213126e+08  1.217837e+08  1.910441e+09  7.540039e+08   \n",
       "\n",
       "                        nBFO85    nCCUG4856T          nS01  \n",
       "N                 7.559800e+04  4.998000e+04  5.043900e+04  \n",
       "mean_length       7.205466e+03  5.897215e+03  8.002076e+03  \n",
       "total_length      5.447188e+08  2.947428e+08  4.036167e+08  \n",
       "N50               1.568500e+04  1.205300e+04  1.540100e+04  \n",
       "L50               9.269000e+03  6.557000e+03  7.270000e+03  \n",
       "min_length        1.100000e+01  4.400000e+01  2.300000e+01  \n",
       "max_length        1.371230e+05  1.158430e+05  1.258020e+05  \n",
       "mean_read_length  7.205466e+03  5.897215e+03  8.002076e+03  \n",
       "sum_read_length   5.447188e+08  2.947428e+08  4.036167e+08  "
      ]
     },
     "execution_count": 8,
     "metadata": {},
     "output_type": "execute_result"
    }
   ],
   "source": [
    "filenames = glob.glob(\"data/bacteroides_fragilis/n*gz\")\n",
    "results = {}\n",
    "for filename in tqdm(filenames):\n",
    "    f = FastQ(filename)\n",
    "    sample = filename.split(\"/\")[-1].replace(\".fastq.gz\", \"\")\n",
    "    stats = f.stats()\n",
    "    results[sample] = stats\n",
    "df = pd.DataFrame(results)\n",
    "df"
   ]
  },
  {
   "cell_type": "code",
   "execution_count": 10,
   "id": "312d51a5-58b7-4b5b-91ee-4a9fda2f46bb",
   "metadata": {},
   "outputs": [
    {
     "data": {
      "text/plain": [
       "nBFO17        12040.0\n",
       "nBFO18        12023.0\n",
       "nBFO42        12128.0\n",
       "nBFO67        12251.0\n",
       "nBFO85        15685.0\n",
       "nCCUG4856T    12053.0\n",
       "nS01          15401.0\n",
       "Name: N50, dtype: float64"
      ]
     },
     "execution_count": 10,
     "metadata": {},
     "output_type": "execute_result"
    }
   ],
   "source": [
    "df.T['N50']"
   ]
  },
  {
   "cell_type": "code",
   "execution_count": 11,
   "id": "da36aefa-363b-4d36-8895-ce4bbdfebd0d",
   "metadata": {},
   "outputs": [
    {
     "name": "stderr",
     "output_type": "stream",
     "text": [
      " 14%|█████████████████████████████                                                                                                                                                                              | 1/7 [00:23<02:19, 23.20s/it]"
     ]
    },
    {
     "name": "stdout",
     "output_type": "stream",
     "text": [
      "💾 Saved paper_images/bacteroides_fragilis/GC_vs_length_nBFO17.eps in pdf/eps/png\n"
     ]
    },
    {
     "name": "stderr",
     "output_type": "stream",
     "text": [
      " 29%|██████████████████████████████████████████████████████████                                                                                                                                                 | 2/7 [00:28<01:03, 12.70s/it]"
     ]
    },
    {
     "name": "stdout",
     "output_type": "stream",
     "text": [
      "💾 Saved paper_images/bacteroides_fragilis/GC_vs_length_nBFO18.eps in pdf/eps/png\n"
     ]
    },
    {
     "name": "stderr",
     "output_type": "stream",
     "text": [
      " 43%|███████████████████████████████████████████████████████████████████████████████████████                                                                                                                    | 3/7 [01:38<02:34, 38.67s/it]"
     ]
    },
    {
     "name": "stdout",
     "output_type": "stream",
     "text": [
      "💾 Saved paper_images/bacteroides_fragilis/GC_vs_length_nBFO42.eps in pdf/eps/png\n"
     ]
    },
    {
     "name": "stderr",
     "output_type": "stream",
     "text": [
      " 57%|████████████████████████████████████████████████████████████████████████████████████████████████████████████████████                                                                                       | 4/7 [02:06<01:43, 34.63s/it]"
     ]
    },
    {
     "name": "stdout",
     "output_type": "stream",
     "text": [
      "💾 Saved paper_images/bacteroides_fragilis/GC_vs_length_nBFO67.eps in pdf/eps/png\n"
     ]
    },
    {
     "name": "stderr",
     "output_type": "stream",
     "text": [
      " 71%|█████████████████████████████████████████████████████████████████████████████████████████████████████████████████████████████████████████████████                                                          | 5/7 [02:27<00:59, 29.61s/it]"
     ]
    },
    {
     "name": "stdout",
     "output_type": "stream",
     "text": [
      "💾 Saved paper_images/bacteroides_fragilis/GC_vs_length_nBFO85.eps in pdf/eps/png\n"
     ]
    },
    {
     "name": "stderr",
     "output_type": "stream",
     "text": [
      " 86%|██████████████████████████████████████████████████████████████████████████████████████████████████████████████████████████████████████████████████████████████████████████████                             | 6/7 [02:38<00:23, 23.49s/it]"
     ]
    },
    {
     "name": "stdout",
     "output_type": "stream",
     "text": [
      "💾 Saved paper_images/bacteroides_fragilis/GC_vs_length_nCCUG4856T.eps in pdf/eps/png\n"
     ]
    },
    {
     "name": "stderr",
     "output_type": "stream",
     "text": [
      "100%|███████████████████████████████████████████████████████████████████████████████████████████████████████████████████████████████████████████████████████████████████████████████████████████████████████████| 7/7 [02:54<00:00, 24.92s/it]"
     ]
    },
    {
     "name": "stdout",
     "output_type": "stream",
     "text": [
      "💾 Saved paper_images/bacteroides_fragilis/GC_vs_length_nS01.eps in pdf/eps/png\n"
     ]
    },
    {
     "name": "stderr",
     "output_type": "stream",
     "text": [
      "\n"
     ]
    },
    {
     "data": {
      "image/png": "[encoded data removed]",
      "text/plain": [
       "<Figure size 800x800 with 2 Axes>"
      ]
     },
     "metadata": {},
     "output_type": "display_data"
    }
   ],
   "source": [
    "for sample in tqdm(df.T['N50'].index):\n",
    "    f = FastQ(f\"data/bacteroides_fragilis/{sample}.fastq.gz\")\n",
    "    f.plot_GC_read_len(maxreads=1000000)\n",
    "    utils.saveall(f\"paper_images/bacteroides_fragilis/GC_vs_length_{sample}\")"
   ]
  },
  {
   "cell_type": "code",
   "execution_count": null,
   "id": "d58acec7-ef0a-47c5-b3f4-43a8af069ae9",
   "metadata": {},
   "outputs": [],
   "source": []
  },
  {
   "cell_type": "code",
   "execution_count": 13,
   "id": "676e94c2-17ad-4f0c-b983-7c787f8e38f0",
   "metadata": {},
   "outputs": [
    {
     "data": {
      "text/plain": [
       "(5673, 6104)"
      ]
     },
     "execution_count": 13,
     "metadata": {},
     "output_type": "execute_result"
    }
   ],
   "source": [
    "## stats Nanopore\n",
    "\n",
    "stats_nanopore = {\n",
    "    \"nBFO85\": {'mean_read_length': 7205.466308632504, 'N': 75598, 'sum_read_length': 544718842,\"N50\":15685},\n",
    "    \"nS01\": {'mean_read_length': 8002.075516961082, 'N': 50439, 'sum_read_length': 403616687,\"N50\":15401},\n",
    "    \"nCCUG5846T\": {'mean_read_length': 5897.214545818328, 'N': 49980, 'sum_read_length': 294742783,\"N50\":12053},\n",
    "    \"nBFO18\": {'mean_read_length': 6059.194039504453, 'N': 20099, 'sum_read_length': 121783741,\"N50\":12023},\n",
    "    \"nBFO42\": {'mean_read_length': 6264.417205796037, 'N': 304967, 'sum_read_length': 1910440522,\"N50\":12128},\n",
    "    \"nBF067\": {'mean_read_length': 5897.012959284229, 'N': 127862, 'sum_read_length': 754003871,\"N50\":12251},\n",
    "    \"nBFO17\": {'mean_read_length': 6454.0561770908, 'N': 96267, 'sum_read_length': 621312626,\"N50\": 12040}\n",
    "}\n",
    "\n",
    "stats_pacbio = {\n",
    "    'pBFO18': {'mean_read_length': 4352.157634425859, 'N': 137083, 'sum_read_length': 596606825, \"N50\":5673},\n",
    "    'pBFO17': {'mean_read_length': 4482.780241589353, 'N': 145619, 'sum_read_length': 652777976, \"N50\":5924},\n",
    "    'pS01': {'mean_read_length': 4387.623353938186, 'N': 125375, 'sum_read_length': 550098278,\"N50\":5819},\n",
    "    'pBFO85': {'mean_read_length': 4579.228556935935, 'N': 124201, 'sum_read_length': 568744766,\"N50\":5973},\n",
    "    'pCGUG4856T': {'mean_read_length': 4484.6185281398875, 'N': 127417, 'sum_read_length': 571416639,\"N50\":5956},\n",
    "    'pBFO42': {'mean_read_length': 4429.161783752886, 'N': 138203, 'sum_read_length': 612123446,\"N50\":5705},\n",
    "    'pBFO67': {'mean_read_length': 4660.7044228353025, 'N': 94713, 'sum_read_length': 441429298,\"N50\":6104}\n",
    "}\n",
    "\n",
    "L = 5.5e6\n",
    "min([v[\"sum_read_length\"] / L  for k,v in stats_nanopore.items()]), max([v[\"sum_read_length\"] / L  for k,v in stats_nanopore.items()])\n",
    "min([v[\"mean_read_length\"]   for k,v in stats_nanopore.items()]), max([v[\"mean_read_length\"]  for k,v in stats_nanopore.items()])\n",
    "min([v[\"sum_read_length\"] / 1e9  for k,v in stats_nanopore.items()]), max([v[\"sum_read_length\"] / 1e9  for k,v in stats_nanopore.items()])\n",
    "min([v[\"N50\"]  for k,v in stats_nanopore.items()]), max([v[\"N50\"]  for k,v in stats_nanopore.items()])\n",
    "\n",
    "min([v[\"sum_read_length\"] / L  for k,v in stats_pacbio.items()]), max([v[\"sum_read_length\"] / L  for k,v in stats_pacbio.items()])\n",
    "min([v[\"mean_read_length\"]   for k,v in stats_pacbio.items()]), max([v[\"mean_read_length\"]  for k,v in stats_pacbio.items()])\n",
    "min([v[\"sum_read_length\"] / 1e9  for k,v in stats_pacbio.items()]), max([v[\"sum_read_length\"] / 1e9  for k,v in stats_pacbio.items()])\n",
    "min([v[\"N50\"]  for k,v in stats_pacbio.items()]), max([v[\"N50\"]  for k,v in stats_pacbio.items()])\n",
    "\n",
    "\n"
   ]
  },
  {
   "cell_type": "code",
   "execution_count": 16,
   "id": "c08dafe3-c9ed-459d-a5c2-08c48f0f5ef8",
   "metadata": {},
   "outputs": [
    {
     "name": "stderr",
     "output_type": "stream",
     "text": [
      "  0%|                                                                                                                                                                                                                   | 0/7 [00:00<?, ?it/s]"
     ]
    },
    {
     "name": "stdout",
     "output_type": "stream",
     "text": [
      "Final number of peaks after filtering: 117\n",
      "N>500 117 with max length 7323, class=III\n"
     ]
    },
    {
     "name": "stderr",
     "output_type": "stream",
     "text": [
      " 14%|█████████████████████████████                                                                                                                                                                              | 1/7 [00:10<01:00, 10.01s/it]"
     ]
    },
    {
     "name": "stdout",
     "output_type": "stream",
     "text": [
      "💾 Saved bacteroides_fragilis/repeats_nBFO17.eps in pdf/eps/png\n",
      "Final number of peaks after filtering: 84\n",
      "N>500 84 with max length 4507, class=class I\n"
     ]
    },
    {
     "name": "stderr",
     "output_type": "stream",
     "text": [
      " 29%|██████████████████████████████████████████████████████████                                                                                                                                                 | 2/7 [00:19<00:49,  9.89s/it]"
     ]
    },
    {
     "name": "stdout",
     "output_type": "stream",
     "text": [
      "💾 Saved bacteroides_fragilis/repeats_nBFO18.eps in pdf/eps/png\n",
      "Final number of peaks after filtering: 54\n",
      "N>500 54 with max length 5606, class=class I\n"
     ]
    },
    {
     "name": "stderr",
     "output_type": "stream",
     "text": [
      " 43%|███████████████████████████████████████████████████████████████████████████████████████                                                                                                                    | 3/7 [00:29<00:39,  9.75s/it]"
     ]
    },
    {
     "name": "stdout",
     "output_type": "stream",
     "text": [
      "💾 Saved bacteroides_fragilis/repeats_nBFO42.eps in pdf/eps/png\n",
      "Final number of peaks after filtering: 81\n",
      "N>500 81 with max length 16216, class=III\n"
     ]
    },
    {
     "name": "stderr",
     "output_type": "stream",
     "text": [
      " 57%|████████████████████████████████████████████████████████████████████████████████████████████████████████████████████                                                                                       | 4/7 [00:38<00:28,  9.53s/it]"
     ]
    },
    {
     "name": "stdout",
     "output_type": "stream",
     "text": [
      "💾 Saved bacteroides_fragilis/repeats_nBFO67.eps in pdf/eps/png\n",
      "Final number of peaks after filtering: 38\n",
      "N>500 38 with max length 10417, class=III\n"
     ]
    },
    {
     "name": "stderr",
     "output_type": "stream",
     "text": [
      " 71%|█████████████████████████████████████████████████████████████████████████████████████████████████████████████████████████████████████████████████                                                          | 5/7 [00:49<00:20, 10.03s/it]"
     ]
    },
    {
     "name": "stdout",
     "output_type": "stream",
     "text": [
      "💾 Saved bacteroides_fragilis/repeats_nBFO85.eps in pdf/eps/png\n",
      "Final number of peaks after filtering: 68\n",
      "N>500 68 with max length 7929, class=III\n"
     ]
    },
    {
     "name": "stderr",
     "output_type": "stream",
     "text": [
      " 86%|██████████████████████████████████████████████████████████████████████████████████████████████████████████████████████████████████████████████████████████████████████████████                             | 6/7 [00:59<00:09,  9.85s/it]"
     ]
    },
    {
     "name": "stdout",
     "output_type": "stream",
     "text": [
      "💾 Saved bacteroides_fragilis/repeats_nS01.eps in pdf/eps/png\n",
      "Final number of peaks after filtering: 27\n",
      "N>500 27 with max length 12256, class=III\n"
     ]
    },
    {
     "name": "stderr",
     "output_type": "stream",
     "text": [
      "100%|███████████████████████████████████████████████████████████████████████████████████████████████████████████████████████████████████████████████████████████████████████████████████████████████████████████| 7/7 [01:08<00:00,  9.85s/it]"
     ]
    },
    {
     "name": "stdout",
     "output_type": "stream",
     "text": [
      "💾 Saved bacteroides_fragilis/repeats_nCCUG4856T.eps in pdf/eps/png\n"
     ]
    },
    {
     "name": "stderr",
     "output_type": "stream",
     "text": [
      "\n"
     ]
    },
    {
     "data": {
      "image/png": "[encoded data removed]",
      "text/plain": [
       "<Figure size 800x800 with 1 Axes>"
      ]
     },
     "metadata": {},
     "output_type": "display_data"
    }
   ],
   "source": [
    "for sample in tqdm(['nBFO17', \"nBFO18\", \"nBFO42\", \"nBFO67\", \"nBFO85\", \"nS01\", \"nCCUG4856T\"]):\n",
    "    r = Repeats(f\"GoldStandard//BF/{sample}.fasta\")\n",
    "    r.threshold = 10\n",
    "    r.plot()\n",
    "    ylim([0,11000])\n",
    "    grid(True)\n",
    "    L = r.df_shustring.repeat_length.max()\n",
    "    N = len(r.get_peak_position_and_length(500))\n",
    "    if L > 7000:\n",
    "        class_ = \"III\"\n",
    "    elif N > 100:\n",
    "        class_ = \"II\"\n",
    "    else:\n",
    "        class_ = \"class I\"\n",
    "    print(f\"N>500 {N} with max length {L}, class={class_}\")\n",
    "    utils.saveall(f\"bacteroides_fragilis/repeats_{sample}\")\n"
   ]
  },
  {
   "cell_type": "markdown",
   "id": "4abc7bc0-4685-462a-85c3-54a288256ef0",
   "metadata": {},
   "source": [
    "# six isolates and polishing"
   ]
  },
  {
   "cell_type": "code",
   "execution_count": 18,
   "id": "f357f9e8-a6cc-4375-9b63-0483c8ef1b8f",
   "metadata": {},
   "outputs": [],
   "source": [
    "from sequana import checkm\n",
    "from sequana import BUSCO\n",
    "data = []\n",
    "\n",
    "filenames = glob.glob(\"metadata_busco_checkm/bacteroides_fragilis/*/*/results.txt\")\n",
    "for filename in filenames:\n",
    "\n",
    "    cc = checkm.CheckM(filename)\n",
    "    sample = filename.split(\"/\")[3]\n",
    "    exp = filename.split(\"/\")[2]\n",
    "    \n",
    "    b = BUSCO(f\"metadata_busco_checkm/bacteroides_fragilis/{exp}/{sample}/full_table.tsv\")\n",
    "    df = b.summary()\n",
    "    datum = [sample,     df['S_pc'], df['C_pc'], df['D_pc'], df['F_pc'], df['M_pc'],cc.df.Completeness, cc.df.Contamination, cc.df['Strain heterogeneity'], exp]\n",
    "    data.append(datum)\n",
    "    "
   ]
  },
  {
   "cell_type": "code",
   "execution_count": 19,
   "id": "13fd1563-d3e6-4206-8b74-6e261636fb82",
   "metadata": {},
   "outputs": [
    {
     "data": {
      "text/html": [
       "<div>\n",
       "<style scoped>\n",
       "    .dataframe tbody tr th:only-of-type {\n",
       "        vertical-align: middle;\n",
       "    }\n",
       "\n",
       "    .dataframe tbody tr th {\n",
       "        vertical-align: top;\n",
       "    }\n",
       "\n",
       "    .dataframe thead th {\n",
       "        text-align: right;\n",
       "    }\n",
       "</style>\n",
       "<table border=\"1\" class=\"dataframe\">\n",
       "  <thead>\n",
       "    <tr style=\"text-align: right;\">\n",
       "      <th></th>\n",
       "      <th>name</th>\n",
       "      <th>buscoS</th>\n",
       "      <th>buscoC</th>\n",
       "      <th>buscoD</th>\n",
       "      <th>buscoF</th>\n",
       "      <th>buscoM</th>\n",
       "      <th>completeness</th>\n",
       "      <th>contamination</th>\n",
       "      <th>heterogenity</th>\n",
       "      <th>type</th>\n",
       "    </tr>\n",
       "  </thead>\n",
       "  <tbody>\n",
       "    <tr>\n",
       "      <th>0</th>\n",
       "      <td>nBFO42</td>\n",
       "      <td>47.580645</td>\n",
       "      <td>47.580645</td>\n",
       "      <td>0.000000</td>\n",
       "      <td>40.322581</td>\n",
       "      <td>12.096774</td>\n",
       "      <td>84.42</td>\n",
       "      <td>2.27</td>\n",
       "      <td>3.45</td>\n",
       "      <td>ONT no polishing</td>\n",
       "    </tr>\n",
       "    <tr>\n",
       "      <th>1</th>\n",
       "      <td>nCCUG4856T</td>\n",
       "      <td>47.580645</td>\n",
       "      <td>47.580645</td>\n",
       "      <td>0.000000</td>\n",
       "      <td>37.096774</td>\n",
       "      <td>15.322581</td>\n",
       "      <td>83.34</td>\n",
       "      <td>2.04</td>\n",
       "      <td>0.00</td>\n",
       "      <td>ONT no polishing</td>\n",
       "    </tr>\n",
       "    <tr>\n",
       "      <th>2</th>\n",
       "      <td>nBFO17</td>\n",
       "      <td>39.516129</td>\n",
       "      <td>39.516129</td>\n",
       "      <td>0.000000</td>\n",
       "      <td>41.935484</td>\n",
       "      <td>18.548387</td>\n",
       "      <td>77.55</td>\n",
       "      <td>1.82</td>\n",
       "      <td>0.00</td>\n",
       "      <td>ONT no polishing</td>\n",
       "    </tr>\n",
       "    <tr>\n",
       "      <th>3</th>\n",
       "      <td>nBFO67</td>\n",
       "      <td>46.774194</td>\n",
       "      <td>47.580645</td>\n",
       "      <td>0.806452</td>\n",
       "      <td>35.483871</td>\n",
       "      <td>16.935484</td>\n",
       "      <td>84.18</td>\n",
       "      <td>2.08</td>\n",
       "      <td>0.00</td>\n",
       "      <td>ONT no polishing</td>\n",
       "    </tr>\n",
       "    <tr>\n",
       "      <th>4</th>\n",
       "      <td>nS01</td>\n",
       "      <td>41.129032</td>\n",
       "      <td>41.129032</td>\n",
       "      <td>0.000000</td>\n",
       "      <td>45.161290</td>\n",
       "      <td>13.709677</td>\n",
       "      <td>78.81</td>\n",
       "      <td>1.54</td>\n",
       "      <td>0.00</td>\n",
       "      <td>ONT no polishing</td>\n",
       "    </tr>\n",
       "    <tr>\n",
       "      <th>5</th>\n",
       "      <td>nBFO85</td>\n",
       "      <td>50.000000</td>\n",
       "      <td>50.000000</td>\n",
       "      <td>0.000000</td>\n",
       "      <td>38.709677</td>\n",
       "      <td>11.290323</td>\n",
       "      <td>83.23</td>\n",
       "      <td>1.83</td>\n",
       "      <td>3.85</td>\n",
       "      <td>ONT no polishing</td>\n",
       "    </tr>\n",
       "    <tr>\n",
       "      <th>6</th>\n",
       "      <td>nBFO18</td>\n",
       "      <td>27.419355</td>\n",
       "      <td>27.419355</td>\n",
       "      <td>0.000000</td>\n",
       "      <td>52.419355</td>\n",
       "      <td>20.161290</td>\n",
       "      <td>75.53</td>\n",
       "      <td>2.50</td>\n",
       "      <td>0.00</td>\n",
       "      <td>ONT no polishing</td>\n",
       "    </tr>\n",
       "    <tr>\n",
       "      <th>7</th>\n",
       "      <td>nBFO42</td>\n",
       "      <td>96.774194</td>\n",
       "      <td>99.193548</td>\n",
       "      <td>2.419355</td>\n",
       "      <td>0.806452</td>\n",
       "      <td>0.000000</td>\n",
       "      <td>99.23</td>\n",
       "      <td>1.45</td>\n",
       "      <td>78.95</td>\n",
       "      <td>PB no polishing</td>\n",
       "    </tr>\n",
       "    <tr>\n",
       "      <th>8</th>\n",
       "      <td>nCCUG4856T</td>\n",
       "      <td>95.161290</td>\n",
       "      <td>99.193548</td>\n",
       "      <td>4.032258</td>\n",
       "      <td>0.806452</td>\n",
       "      <td>0.000000</td>\n",
       "      <td>99.19</td>\n",
       "      <td>0.62</td>\n",
       "      <td>83.33</td>\n",
       "      <td>PB no polishing</td>\n",
       "    </tr>\n",
       "    <tr>\n",
       "      <th>9</th>\n",
       "      <td>nBFO17</td>\n",
       "      <td>94.354839</td>\n",
       "      <td>97.580645</td>\n",
       "      <td>3.225806</td>\n",
       "      <td>2.419355</td>\n",
       "      <td>0.000000</td>\n",
       "      <td>98.57</td>\n",
       "      <td>2.91</td>\n",
       "      <td>65.38</td>\n",
       "      <td>PB no polishing</td>\n",
       "    </tr>\n",
       "    <tr>\n",
       "      <th>10</th>\n",
       "      <td>nBFO67</td>\n",
       "      <td>95.161290</td>\n",
       "      <td>98.387097</td>\n",
       "      <td>3.225806</td>\n",
       "      <td>1.612903</td>\n",
       "      <td>0.000000</td>\n",
       "      <td>99.15</td>\n",
       "      <td>2.69</td>\n",
       "      <td>50.00</td>\n",
       "      <td>PB no polishing</td>\n",
       "    </tr>\n",
       "    <tr>\n",
       "      <th>11</th>\n",
       "      <td>nS01</td>\n",
       "      <td>95.967742</td>\n",
       "      <td>98.387097</td>\n",
       "      <td>2.419355</td>\n",
       "      <td>1.612903</td>\n",
       "      <td>0.000000</td>\n",
       "      <td>98.90</td>\n",
       "      <td>1.60</td>\n",
       "      <td>8.33</td>\n",
       "      <td>PB no polishing</td>\n",
       "    </tr>\n",
       "    <tr>\n",
       "      <th>12</th>\n",
       "      <td>nBFO85</td>\n",
       "      <td>93.548387</td>\n",
       "      <td>98.387097</td>\n",
       "      <td>4.838710</td>\n",
       "      <td>1.612903</td>\n",
       "      <td>0.000000</td>\n",
       "      <td>99.21</td>\n",
       "      <td>3.34</td>\n",
       "      <td>79.49</td>\n",
       "      <td>PB no polishing</td>\n",
       "    </tr>\n",
       "    <tr>\n",
       "      <th>13</th>\n",
       "      <td>nBFO18</td>\n",
       "      <td>95.967742</td>\n",
       "      <td>98.387097</td>\n",
       "      <td>2.419355</td>\n",
       "      <td>1.612903</td>\n",
       "      <td>0.000000</td>\n",
       "      <td>99.23</td>\n",
       "      <td>1.29</td>\n",
       "      <td>33.33</td>\n",
       "      <td>PB no polishing</td>\n",
       "    </tr>\n",
       "    <tr>\n",
       "      <th>14</th>\n",
       "      <td>nBFO42</td>\n",
       "      <td>96.774194</td>\n",
       "      <td>99.193548</td>\n",
       "      <td>2.419355</td>\n",
       "      <td>0.806452</td>\n",
       "      <td>0.000000</td>\n",
       "      <td>99.23</td>\n",
       "      <td>0.36</td>\n",
       "      <td>25.00</td>\n",
       "      <td>ONT polishing SE</td>\n",
       "    </tr>\n",
       "    <tr>\n",
       "      <th>15</th>\n",
       "      <td>nCCUG4856T</td>\n",
       "      <td>96.774194</td>\n",
       "      <td>99.193548</td>\n",
       "      <td>2.419355</td>\n",
       "      <td>0.806452</td>\n",
       "      <td>0.000000</td>\n",
       "      <td>99.19</td>\n",
       "      <td>0.11</td>\n",
       "      <td>0.00</td>\n",
       "      <td>ONT polishing SE</td>\n",
       "    </tr>\n",
       "    <tr>\n",
       "      <th>16</th>\n",
       "      <td>nBFO17</td>\n",
       "      <td>95.161290</td>\n",
       "      <td>97.580645</td>\n",
       "      <td>2.419355</td>\n",
       "      <td>1.612903</td>\n",
       "      <td>0.806452</td>\n",
       "      <td>98.24</td>\n",
       "      <td>0.56</td>\n",
       "      <td>0.00</td>\n",
       "      <td>ONT polishing SE</td>\n",
       "    </tr>\n",
       "    <tr>\n",
       "      <th>17</th>\n",
       "      <td>nBFO67</td>\n",
       "      <td>96.774194</td>\n",
       "      <td>98.387097</td>\n",
       "      <td>1.612903</td>\n",
       "      <td>1.612903</td>\n",
       "      <td>0.000000</td>\n",
       "      <td>99.03</td>\n",
       "      <td>0.74</td>\n",
       "      <td>0.00</td>\n",
       "      <td>ONT polishing SE</td>\n",
       "    </tr>\n",
       "    <tr>\n",
       "      <th>18</th>\n",
       "      <td>nS01</td>\n",
       "      <td>94.354839</td>\n",
       "      <td>96.774194</td>\n",
       "      <td>2.419355</td>\n",
       "      <td>1.612903</td>\n",
       "      <td>1.612903</td>\n",
       "      <td>98.88</td>\n",
       "      <td>1.27</td>\n",
       "      <td>0.00</td>\n",
       "      <td>ONT polishing SE</td>\n",
       "    </tr>\n",
       "    <tr>\n",
       "      <th>19</th>\n",
       "      <td>nBFO85</td>\n",
       "      <td>95.967742</td>\n",
       "      <td>98.387097</td>\n",
       "      <td>2.419355</td>\n",
       "      <td>1.612903</td>\n",
       "      <td>0.000000</td>\n",
       "      <td>99.37</td>\n",
       "      <td>0.89</td>\n",
       "      <td>11.11</td>\n",
       "      <td>ONT polishing SE</td>\n",
       "    </tr>\n",
       "    <tr>\n",
       "      <th>20</th>\n",
       "      <td>nBFO18</td>\n",
       "      <td>95.161290</td>\n",
       "      <td>97.580645</td>\n",
       "      <td>2.419355</td>\n",
       "      <td>1.612903</td>\n",
       "      <td>0.806452</td>\n",
       "      <td>99.12</td>\n",
       "      <td>1.77</td>\n",
       "      <td>52.38</td>\n",
       "      <td>ONT polishing SE</td>\n",
       "    </tr>\n",
       "    <tr>\n",
       "      <th>21</th>\n",
       "      <td>nBFO42</td>\n",
       "      <td>96.774194</td>\n",
       "      <td>99.193548</td>\n",
       "      <td>2.419355</td>\n",
       "      <td>0.806452</td>\n",
       "      <td>0.000000</td>\n",
       "      <td>99.23</td>\n",
       "      <td>0.36</td>\n",
       "      <td>25.00</td>\n",
       "      <td>ONT polishing PE</td>\n",
       "    </tr>\n",
       "    <tr>\n",
       "      <th>22</th>\n",
       "      <td>nCCUG4856T</td>\n",
       "      <td>96.774194</td>\n",
       "      <td>99.193548</td>\n",
       "      <td>2.419355</td>\n",
       "      <td>0.806452</td>\n",
       "      <td>0.000000</td>\n",
       "      <td>99.19</td>\n",
       "      <td>0.11</td>\n",
       "      <td>0.00</td>\n",
       "      <td>ONT polishing PE</td>\n",
       "    </tr>\n",
       "    <tr>\n",
       "      <th>23</th>\n",
       "      <td>nBFO17</td>\n",
       "      <td>94.354839</td>\n",
       "      <td>96.774194</td>\n",
       "      <td>2.419355</td>\n",
       "      <td>1.612903</td>\n",
       "      <td>1.612903</td>\n",
       "      <td>98.24</td>\n",
       "      <td>0.56</td>\n",
       "      <td>0.00</td>\n",
       "      <td>ONT polishing PE</td>\n",
       "    </tr>\n",
       "    <tr>\n",
       "      <th>24</th>\n",
       "      <td>nBFO67</td>\n",
       "      <td>96.774194</td>\n",
       "      <td>98.387097</td>\n",
       "      <td>1.612903</td>\n",
       "      <td>1.612903</td>\n",
       "      <td>0.000000</td>\n",
       "      <td>99.23</td>\n",
       "      <td>0.74</td>\n",
       "      <td>0.00</td>\n",
       "      <td>ONT polishing PE</td>\n",
       "    </tr>\n",
       "    <tr>\n",
       "      <th>25</th>\n",
       "      <td>nS01</td>\n",
       "      <td>94.354839</td>\n",
       "      <td>96.774194</td>\n",
       "      <td>2.419355</td>\n",
       "      <td>1.612903</td>\n",
       "      <td>1.612903</td>\n",
       "      <td>98.90</td>\n",
       "      <td>1.27</td>\n",
       "      <td>0.00</td>\n",
       "      <td>ONT polishing PE</td>\n",
       "    </tr>\n",
       "    <tr>\n",
       "      <th>26</th>\n",
       "      <td>nBFO85</td>\n",
       "      <td>95.967742</td>\n",
       "      <td>98.387097</td>\n",
       "      <td>2.419355</td>\n",
       "      <td>1.612903</td>\n",
       "      <td>0.000000</td>\n",
       "      <td>99.37</td>\n",
       "      <td>0.89</td>\n",
       "      <td>11.11</td>\n",
       "      <td>ONT polishing PE</td>\n",
       "    </tr>\n",
       "    <tr>\n",
       "      <th>27</th>\n",
       "      <td>nBFO18</td>\n",
       "      <td>95.967742</td>\n",
       "      <td>98.387097</td>\n",
       "      <td>2.419355</td>\n",
       "      <td>1.612903</td>\n",
       "      <td>0.000000</td>\n",
       "      <td>99.15</td>\n",
       "      <td>1.25</td>\n",
       "      <td>43.75</td>\n",
       "      <td>ONT polishing PE</td>\n",
       "    </tr>\n",
       "  </tbody>\n",
       "</table>\n",
       "</div>"
      ],
      "text/plain": [
       "          name     buscoS     buscoC    buscoD     buscoF     buscoM  \\\n",
       "0       nBFO42  47.580645  47.580645  0.000000  40.322581  12.096774   \n",
       "1   nCCUG4856T  47.580645  47.580645  0.000000  37.096774  15.322581   \n",
       "2       nBFO17  39.516129  39.516129  0.000000  41.935484  18.548387   \n",
       "3       nBFO67  46.774194  47.580645  0.806452  35.483871  16.935484   \n",
       "4         nS01  41.129032  41.129032  0.000000  45.161290  13.709677   \n",
       "5       nBFO85  50.000000  50.000000  0.000000  38.709677  11.290323   \n",
       "6       nBFO18  27.419355  27.419355  0.000000  52.419355  20.161290   \n",
       "7       nBFO42  96.774194  99.193548  2.419355   0.806452   0.000000   \n",
       "8   nCCUG4856T  95.161290  99.193548  4.032258   0.806452   0.000000   \n",
       "9       nBFO17  94.354839  97.580645  3.225806   2.419355   0.000000   \n",
       "10      nBFO67  95.161290  98.387097  3.225806   1.612903   0.000000   \n",
       "11        nS01  95.967742  98.387097  2.419355   1.612903   0.000000   \n",
       "12      nBFO85  93.548387  98.387097  4.838710   1.612903   0.000000   \n",
       "13      nBFO18  95.967742  98.387097  2.419355   1.612903   0.000000   \n",
       "14      nBFO42  96.774194  99.193548  2.419355   0.806452   0.000000   \n",
       "15  nCCUG4856T  96.774194  99.193548  2.419355   0.806452   0.000000   \n",
       "16      nBFO17  95.161290  97.580645  2.419355   1.612903   0.806452   \n",
       "17      nBFO67  96.774194  98.387097  1.612903   1.612903   0.000000   \n",
       "18        nS01  94.354839  96.774194  2.419355   1.612903   1.612903   \n",
       "19      nBFO85  95.967742  98.387097  2.419355   1.612903   0.000000   \n",
       "20      nBFO18  95.161290  97.580645  2.419355   1.612903   0.806452   \n",
       "21      nBFO42  96.774194  99.193548  2.419355   0.806452   0.000000   \n",
       "22  nCCUG4856T  96.774194  99.193548  2.419355   0.806452   0.000000   \n",
       "23      nBFO17  94.354839  96.774194  2.419355   1.612903   1.612903   \n",
       "24      nBFO67  96.774194  98.387097  1.612903   1.612903   0.000000   \n",
       "25        nS01  94.354839  96.774194  2.419355   1.612903   1.612903   \n",
       "26      nBFO85  95.967742  98.387097  2.419355   1.612903   0.000000   \n",
       "27      nBFO18  95.967742  98.387097  2.419355   1.612903   0.000000   \n",
       "\n",
       "    completeness  contamination  heterogenity              type  \n",
       "0          84.42           2.27          3.45  ONT no polishing  \n",
       "1          83.34           2.04          0.00  ONT no polishing  \n",
       "2          77.55           1.82          0.00  ONT no polishing  \n",
       "3          84.18           2.08          0.00  ONT no polishing  \n",
       "4          78.81           1.54          0.00  ONT no polishing  \n",
       "5          83.23           1.83          3.85  ONT no polishing  \n",
       "6          75.53           2.50          0.00  ONT no polishing  \n",
       "7          99.23           1.45         78.95   PB no polishing  \n",
       "8          99.19           0.62         83.33   PB no polishing  \n",
       "9          98.57           2.91         65.38   PB no polishing  \n",
       "10         99.15           2.69         50.00   PB no polishing  \n",
       "11         98.90           1.60          8.33   PB no polishing  \n",
       "12         99.21           3.34         79.49   PB no polishing  \n",
       "13         99.23           1.29         33.33   PB no polishing  \n",
       "14         99.23           0.36         25.00  ONT polishing SE  \n",
       "15         99.19           0.11          0.00  ONT polishing SE  \n",
       "16         98.24           0.56          0.00  ONT polishing SE  \n",
       "17         99.03           0.74          0.00  ONT polishing SE  \n",
       "18         98.88           1.27          0.00  ONT polishing SE  \n",
       "19         99.37           0.89         11.11  ONT polishing SE  \n",
       "20         99.12           1.77         52.38  ONT polishing SE  \n",
       "21         99.23           0.36         25.00  ONT polishing PE  \n",
       "22         99.19           0.11          0.00  ONT polishing PE  \n",
       "23         98.24           0.56          0.00  ONT polishing PE  \n",
       "24         99.23           0.74          0.00  ONT polishing PE  \n",
       "25         98.90           1.27          0.00  ONT polishing PE  \n",
       "26         99.37           0.89         11.11  ONT polishing PE  \n",
       "27         99.15           1.25         43.75  ONT polishing PE  "
      ]
     },
     "execution_count": 19,
     "metadata": {},
     "output_type": "execute_result"
    }
   ],
   "source": [
    "df = pd.DataFrame(data)\n",
    "df.columns = ['name', 'buscoS', 'buscoC','buscoD','buscoF','buscoM','completeness','contamination','heterogenity', 'type']\n",
    "\n",
    "rename = {\n",
    "    \"lora\": \"ONT no polishing\", \n",
    "    \"lora_polish_SE\": \"ONT polishing SE\", \n",
    "    \"lora_polish_PE\": \"ONT polishing PE\",\n",
    "    \"lora_pacbio_flye\": \"PB no polishing\"}\n",
    "df['type'] = [rename[x] for x in df['type']]\n",
    "df"
   ]
  },
  {
   "cell_type": "code",
   "execution_count": 20,
   "id": "074739da-c572-4599-9fdc-9c8441ff256d",
   "metadata": {},
   "outputs": [
    {
     "data": {
      "text/plain": [
       "type\n",
       "ONT no polishing    42.972350\n",
       "ONT polishing PE    98.156682\n",
       "ONT polishing SE    98.156682\n",
       "PB no polishing     98.502304\n",
       "Name: buscoC, dtype: float64"
      ]
     },
     "execution_count": 20,
     "metadata": {},
     "output_type": "execute_result"
    }
   ],
   "source": [
    "df.groupby(['type'])['buscoC'].mean()"
   ]
  },
  {
   "cell_type": "markdown",
   "id": "3a38d4fc-9d1a-4a33-95d0-f8bd38317ead",
   "metadata": {},
   "source": [
    "# BUSCO (summing the 7 samples)"
   ]
  },
  {
   "cell_type": "code",
   "execution_count": 21,
   "id": "56b08bb6-9a3c-4e89-a632-4f779d576ec2",
   "metadata": {},
   "outputs": [
    {
     "name": "stderr",
     "output_type": "stream",
     "text": [
      "The PostScript backend does not support transparency; partially transparent artists will be rendered opaque.\n"
     ]
    },
    {
     "name": "stdout",
     "output_type": "stream",
     "text": [
      "💾 Saved paper_images/bacteroides_fragilis/contigs_busco.eps in pdf/eps/png\n"
     ]
    },
    {
     "data": {
      "image/png": "[encoded data removed]",
      "text/plain": [
       "<Figure size 800x600 with 1 Axes>"
      ]
     },
     "metadata": {},
     "output_type": "display_data"
    }
   ],
   "source": [
    "colors = {\n",
    "    \"Complete\": \"green\",\n",
    "    \"Missing\": \"red\",\n",
    "    \"Duplicated\": \"orange\",\n",
    "    \"Fragmented\": \"pink\"\n",
    "}\n",
    "df_grouped = df.groupby(\"type\")[[\"buscoS\", \"buscoD\", \"buscoF\", \"buscoM\"]].sum() / 7\n",
    "df_grouped = df_grouped.iloc[::-1]\n",
    "df_grouped = df_grouped.rename(\n",
    "    columns={\"buscoF\": \"Fragmented\", \"buscoD\": \"Duplicated\", \"buscoS\": \"Complete\", \"buscoM\": \"Missing\"}\n",
    ")\n",
    "df_grouped.plot(\n",
    "        kind=\"barh\",\n",
    "        stacked=True,\n",
    "        figsize=(8, 6),\n",
    "        fontsize=12,\n",
    "        color = [colors[col] for col in df_grouped.columns if col!= \"type\"],\n",
    "        width=0.8\n",
    ")\n",
    "legend(loc='lower left')\n",
    "ax = gca()\n",
    "ax.set_axisbelow(True)     # draw grid under bars\n",
    "ax.grid(True, axis=\"y\", linestyle=\"-\", color=\"0.8\")  # style as you like\n",
    "tight_layout()\n",
    "grid(True, zorder=-10)\n",
    "_ = xlabel(\"Percentage (%)\", fontsize=16)\n",
    "_ = ylabel(\"Data and Assembly method\", fontsize=16)\n",
    "    \n",
    "utils.saveall(\"paper_images/bacteroides_fragilis/contigs_busco\")"
   ]
  },
  {
   "cell_type": "code",
   "execution_count": 22,
   "id": "a5b7991d-bf9b-4c5d-bf59-8f7811ac8edb",
   "metadata": {},
   "outputs": [
    {
     "name": "stdout",
     "output_type": "stream",
     "text": [
      "💾 Saved paper_images/bacteroides_fragilis/checkm_completeness.eps in pdf/eps/png\n"
     ]
    },
    {
     "data": {
      "image/png": "[encoded data removed]",
      "text/plain": [
       "<Figure size 800x800 with 1 Axes>"
      ]
     },
     "metadata": {},
     "output_type": "display_data"
    }
   ],
   "source": [
    "ax = df.boxplot('completeness', by=['type'])\n",
    "ylabel(\"Completeness (%)\", fontsize=16)\n",
    "ylim([0,100])\n",
    "xlabel('')\n",
    "xticks([1,2,3,4], ['Nanopore', 'Polishing Paired-end', 'Polishing Single-end', 'Pacbio no polishing'], fontsize=8)\n",
    "title(\"\", fontsize=16)\n",
    "ax.get_figure().suptitle('')\n",
    "utils.saveall(\"paper_images/bacteroides_fragilis/checkm_completeness\")"
   ]
  },
  {
   "cell_type": "code",
   "execution_count": 23,
   "id": "3fa6b9c4-4353-4b62-a356-e94a62d9b469",
   "metadata": {},
   "outputs": [
    {
     "name": "stdout",
     "output_type": "stream",
     "text": [
      "💾 Saved paper_images/bacteroides_fragilis/buscoC.eps in pdf/eps/png\n"
     ]
    },
    {
     "data": {
      "image/png": "[encoded data removed]",
      "text/plain": [
       "<Figure size 800x800 with 1 Axes>"
      ]
     },
     "metadata": {},
     "output_type": "display_data"
    }
   ],
   "source": [
    "ax = df.boxplot('buscoC', by=['type'])\n",
    "ylabel(\"#\", fontsize=16)\n",
    "ylim([0,130])\n",
    "xlabel('')\n",
    "xticks([1,2,3,4], ['Nanopore', 'Polishing Paired-end', 'Polishing Single-end', 'Pacbio no polishing'], fontsize=8)\n",
    "title(\"\", fontsize=16)\n",
    "ax.get_figure().suptitle('')\n",
    "ylim([0,100])\n",
    "utils.saveall(\"paper_images/bacteroides_fragilis/buscoC\")\n"
   ]
  },
  {
   "cell_type": "markdown",
   "id": "d49b2813-f6dd-4988-b413-f8ac8a8ef47b",
   "metadata": {},
   "source": [
    "## Repeats of bacteroides fragilis\n"
   ]
  },
  {
   "cell_type": "code",
   "execution_count": 24,
   "id": "c770d040-dbf5-4693-9660-562d26bc3694",
   "metadata": {},
   "outputs": [
    {
     "name": "stderr",
     "output_type": "stream",
     "text": [
      " 14%|█████████████████████████████                                                                                                                                                                              | 1/7 [00:10<01:00, 10.11s/it]"
     ]
    },
    {
     "name": "stdout",
     "output_type": "stream",
     "text": [
      "💾 Saved paper_images/bacteroides_fragilis/repeats_nBFO17.eps in pdf/eps/png\n"
     ]
    },
    {
     "name": "stderr",
     "output_type": "stream",
     "text": [
      " 29%|██████████████████████████████████████████████████████████                                                                                                                                                 | 2/7 [00:20<00:51, 10.30s/it]"
     ]
    },
    {
     "name": "stdout",
     "output_type": "stream",
     "text": [
      "💾 Saved paper_images/bacteroides_fragilis/repeats_nBFO18.eps in pdf/eps/png\n"
     ]
    },
    {
     "name": "stderr",
     "output_type": "stream",
     "text": [
      " 43%|███████████████████████████████████████████████████████████████████████████████████████                                                                                                                    | 3/7 [00:30<00:40, 10.22s/it]"
     ]
    },
    {
     "name": "stdout",
     "output_type": "stream",
     "text": [
      "💾 Saved paper_images/bacteroides_fragilis/repeats_nBFO42.eps in pdf/eps/png\n"
     ]
    },
    {
     "name": "stderr",
     "output_type": "stream",
     "text": [
      " 57%|████████████████████████████████████████████████████████████████████████████████████████████████████████████████████                                                                                       | 4/7 [00:39<00:28,  9.54s/it]"
     ]
    },
    {
     "name": "stdout",
     "output_type": "stream",
     "text": [
      "💾 Saved paper_images/bacteroides_fragilis/repeats_nBFO67.eps in pdf/eps/png\n"
     ]
    },
    {
     "name": "stderr",
     "output_type": "stream",
     "text": [
      " 71%|█████████████████████████████████████████████████████████████████████████████████████████████████████████████████████████████████████████████████                                                          | 5/7 [00:49<00:19,  9.81s/it]"
     ]
    },
    {
     "name": "stdout",
     "output_type": "stream",
     "text": [
      "💾 Saved paper_images/bacteroides_fragilis/repeats_nBFO85.eps in pdf/eps/png\n"
     ]
    },
    {
     "name": "stderr",
     "output_type": "stream",
     "text": [
      " 86%|██████████████████████████████████████████████████████████████████████████████████████████████████████████████████████████████████████████████████████████████████████████████                             | 6/7 [00:59<00:09,  9.94s/it]"
     ]
    },
    {
     "name": "stdout",
     "output_type": "stream",
     "text": [
      "💾 Saved paper_images/bacteroides_fragilis/repeats_nCCUG4856T.eps in pdf/eps/png\n"
     ]
    },
    {
     "name": "stderr",
     "output_type": "stream",
     "text": [
      "100%|███████████████████████████████████████████████████████████████████████████████████████████████████████████████████████████████████████████████████████████████████████████████████████████████████████████| 7/7 [01:09<00:00,  9.88s/it]"
     ]
    },
    {
     "name": "stdout",
     "output_type": "stream",
     "text": [
      "💾 Saved paper_images/bacteroides_fragilis/repeats_nS01.eps in pdf/eps/png\n"
     ]
    },
    {
     "name": "stderr",
     "output_type": "stream",
     "text": [
      "\n"
     ]
    },
    {
     "data": {
      "image/png": "[encoded data removed]",
      "text/plain": [
       "<Figure size 800x800 with 1 Axes>"
      ]
     },
     "metadata": {},
     "output_type": "display_data"
    }
   ],
   "source": [
    "import glob\n",
    "from tqdm import tqdm\n",
    "# results of the LORA assembly using flye, nanopore and illumina data.\n",
    "filenames = glob.glob(\"GoldStandard/BF/*fasta\")\n",
    "for filename in tqdm(filenames):\n",
    "    f = FastA(filename)\n",
    "    M = -1\n",
    "    name = None\n",
    "    for k,v in f.get_lengths_as_dict().items():\n",
    "        if v>M:\n",
    "            name = k\n",
    "            M = v\n",
    "    #print(name, M)\n",
    "    r = Repeats(filename, name=name)\n",
    "    r.threshold = 10\n",
    "    r.plot()\n",
    "    sample = filename.split(\"/\")[-1].replace(\".fasta\", \"\")\n",
    "    utils.saveall(f\"paper_images/bacteroides_fragilis/repeats_{sample}\")"
   ]
  },
  {
   "cell_type": "markdown",
   "id": "cbe9161c-e298-47b0-b60e-d9be390b9daf",
   "metadata": {},
   "source": [
    "# Stastistics for Table \n",
    "\n",
    "\n"
   ]
  },
  {
   "cell_type": "code",
   "execution_count": 25,
   "id": "dd7bbe7c-9e6b-42c1-99d4-2d580bc12e0b",
   "metadata": {},
   "outputs": [],
   "source": [
    "from sequana import FastA"
   ]
  },
  {
   "cell_type": "code",
   "execution_count": 26,
   "id": "5c3a4677-a07e-4488-9db0-67fb986f4d20",
   "metadata": {},
   "outputs": [
    {
     "name": "stdout",
     "output_type": "stream",
     "text": [
      "5241700 43.1\n"
     ]
    }
   ],
   "source": [
    "f = FastA(\"GoldStandard/bacteroides_fragilis.fa\")\n",
    "L = f.get_stats()['total_length']\n",
    "GC = f.GC_content()\n",
    "print(L, round(GC,1))"
   ]
  },
  {
   "cell_type": "markdown",
   "id": "ba57bdb2-fdb8-4c18-a0b8-d7c372de22d7",
   "metadata": {},
   "source": [
    "# STATS TABLE"
   ]
  },
  {
   "cell_type": "code",
   "execution_count": null,
   "id": "59e8006c-341b-4032-93c1-c8d03c5c2c84",
   "metadata": {},
   "outputs": [],
   "source": [
    "\n",
    "\n",
    "filenames = glob.glob(\"data/bacteroides_fragilis/n*.gz\")\n",
    "for filename in filenames:\n",
    "    f = FastQ(filename)\n",
    "    ss = f.stats()\n",
    "    doc = ss['sum_read_length'] / utils.genome_size[\"bacteroide\"]\n",
    "    print(f\"{filename}; N={ss['N']}; L={ss['mean_length']}; N50={ss['N50']}; DOC={doc}\")\n",
    "    "
   ]
  },
  {
   "cell_type": "code",
   "execution_count": null,
   "id": "01516a4a-966c-4a14-8fbe-d4aae66cebbf",
   "metadata": {},
   "outputs": [],
   "source": []
  }
 ],
 "metadata": {
  "kernelspec": {
   "display_name": "Python 3 (ipykernel)",
   "language": "python",
   "name": "python3"
  },
  "language_info": {
   "codemirror_mode": {
    "name": "ipython",
    "version": 3
   },
   "file_extension": ".py",
   "mimetype": "text/x-python",
   "name": "python",
   "nbconvert_exporter": "python",
   "pygments_lexer": "ipython3",
   "version": "3.10.14"
  }
 },
 "nbformat": 4,
 "nbformat_minor": 5
}
