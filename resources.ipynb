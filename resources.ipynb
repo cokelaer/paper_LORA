{
 "cells": [
  {
   "cell_type": "markdown",
   "id": "2f9fe837-97c9-4bfa-998c-8d0d1018af04",
   "metadata": {},
   "source": [
    "# Materials and code to create images of the LORA paper's annex (CPU / time usage)"
   ]
  },
  {
   "cell_type": "code",
   "execution_count": 1,
   "id": "3168770b-b4ec-4286-89f8-b9e02d89b2f0",
   "metadata": {},
   "outputs": [
    {
     "name": "stdout",
     "output_type": "stream",
     "text": [
      "Using matplotlib backend: agg\n"
     ]
    }
   ],
   "source": [
    "%matplotlib\n",
    "from pylab import *"
   ]
  },
  {
   "cell_type": "code",
   "execution_count": 2,
   "id": "7af8e521-4bdc-4a9c-b57a-6517f557b358",
   "metadata": {},
   "outputs": [],
   "source": [
    "rcParams['figure.figsize'] = (8,8)"
   ]
  },
  {
   "cell_type": "code",
   "execution_count": 3,
   "id": "8da8cfe8-05e1-4143-a62d-380547daac90",
   "metadata": {},
   "outputs": [],
   "source": [
    "import os\n",
    "import glob\n",
    "\n",
    "import pandas as pd\n",
    "import seaborn as sns\n",
    "from tqdm import tqdm\n",
    "from sequana import *"
   ]
  },
  {
   "cell_type": "code",
   "execution_count": 4,
   "id": "d15523c9-1faf-4493-8e10-188734ce3103",
   "metadata": {},
   "outputs": [
    {
     "data": {
      "text/plain": [
       "<module 'utils' from '/home/cokelaer/Work/1_Projects/LORA/paper_LORA/utils.py'>"
      ]
     },
     "execution_count": 4,
     "metadata": {},
     "output_type": "execute_result"
    }
   ],
   "source": [
    "import importlib\n",
    "import utils  # your module\n",
    "importlib.reload(utils)"
   ]
  },
  {
   "cell_type": "markdown",
   "id": "ecd1729b-32cb-4e8e-bcb3-6e4ba972cd6b",
   "metadata": {},
   "source": [
    "# Timing and memory"
   ]
  },
  {
   "cell_type": "code",
   "execution_count": 5,
   "id": "36c4ce5c-350d-4717-8509-87f8b815e1f1",
   "metadata": {},
   "outputs": [
    {
     "name": "stdout",
     "output_type": "stream",
     "text": [
      "metadata_resources/cyanobacteria/hifiasm_circ\n",
      "metadata_resources/cyanobacteria/hifiasm_nocirc\n",
      "metadata_resources/cyanobacteria/pecat_circ\n",
      "metadata_resources/cyanobacteria/unicycler_circ\n",
      "metadata_resources/cyanobacteria/unicycler_nocirc\n",
      "metadata_resources/leishmania/canu\n",
      "metadata_resources/leishmania/hifiasm\n",
      "metadata_resources/veillonella_raw/hifiasm_circ\n",
      "metadata_resources/veillonella_raw/hifiasm_nocirc\n"
     ]
    },
    {
     "data": {
      "text/html": [
       "<div>\n",
       "<style scoped>\n",
       "    .dataframe tbody tr th:only-of-type {\n",
       "        vertical-align: middle;\n",
       "    }\n",
       "\n",
       "    .dataframe tbody tr th {\n",
       "        vertical-align: top;\n",
       "    }\n",
       "\n",
       "    .dataframe thead th {\n",
       "        text-align: right;\n",
       "    }\n",
       "</style>\n",
       "<table border=\"1\" class=\"dataframe\">\n",
       "  <thead>\n",
       "    <tr style=\"text-align: right;\">\n",
       "      <th></th>\n",
       "      <th>task</th>\n",
       "      <th>memory_gb</th>\n",
       "      <th>thread</th>\n",
       "      <th>time</th>\n",
       "      <th>cpu_time</th>\n",
       "      <th>exp</th>\n",
       "      <th>circlator</th>\n",
       "      <th>assembler</th>\n",
       "      <th>cpu_time_seconds</th>\n",
       "      <th>time_seconds</th>\n",
       "    </tr>\n",
       "  </thead>\n",
       "  <tbody>\n",
       "    <tr>\n",
       "      <th>0</th>\n",
       "      <td>bam2bed</td>\n",
       "      <td>3.009937</td>\n",
       "      <td>4</td>\n",
       "      <td>00:01:02</td>\n",
       "      <td>00:04:08</td>\n",
       "      <td>cyanobacteria</td>\n",
       "      <td>True</td>\n",
       "      <td>canu</td>\n",
       "      <td>248</td>\n",
       "      <td>62</td>\n",
       "    </tr>\n",
       "    <tr>\n",
       "      <th>1</th>\n",
       "      <td>busco</td>\n",
       "      <td>0.558689</td>\n",
       "      <td>4</td>\n",
       "      <td>00:00:27</td>\n",
       "      <td>00:01:48</td>\n",
       "      <td>cyanobacteria</td>\n",
       "      <td>True</td>\n",
       "      <td>canu</td>\n",
       "      <td>108</td>\n",
       "      <td>27</td>\n",
       "    </tr>\n",
       "    <tr>\n",
       "      <th>2</th>\n",
       "      <td>canu</td>\n",
       "      <td>6.983616</td>\n",
       "      <td>1</td>\n",
       "      <td>02:42:46</td>\n",
       "      <td>02:42:46</td>\n",
       "      <td>cyanobacteria</td>\n",
       "      <td>True</td>\n",
       "      <td>canu</td>\n",
       "      <td>9766</td>\n",
       "      <td>9766</td>\n",
       "    </tr>\n",
       "    <tr>\n",
       "      <th>3</th>\n",
       "      <td>checkm</td>\n",
       "      <td>1.079258</td>\n",
       "      <td>4</td>\n",
       "      <td>00:02:10</td>\n",
       "      <td>00:08:40</td>\n",
       "      <td>cyanobacteria</td>\n",
       "      <td>True</td>\n",
       "      <td>canu</td>\n",
       "      <td>520</td>\n",
       "      <td>130</td>\n",
       "    </tr>\n",
       "    <tr>\n",
       "      <th>4</th>\n",
       "      <td>checkm_marker</td>\n",
       "      <td>0.420620</td>\n",
       "      <td>1</td>\n",
       "      <td>00:00:10</td>\n",
       "      <td>00:00:10</td>\n",
       "      <td>cyanobacteria</td>\n",
       "      <td>True</td>\n",
       "      <td>canu</td>\n",
       "      <td>10</td>\n",
       "      <td>10</td>\n",
       "    </tr>\n",
       "    <tr>\n",
       "      <th>...</th>\n",
       "      <td>...</td>\n",
       "      <td>...</td>\n",
       "      <td>...</td>\n",
       "      <td>...</td>\n",
       "      <td>...</td>\n",
       "      <td>...</td>\n",
       "      <td>...</td>\n",
       "      <td>...</td>\n",
       "      <td>...</td>\n",
       "      <td>...</td>\n",
       "    </tr>\n",
       "    <tr>\n",
       "      <th>9</th>\n",
       "      <td>quast</td>\n",
       "      <td>3.999504</td>\n",
       "      <td>4</td>\n",
       "      <td>00:06:08</td>\n",
       "      <td>00:24:32</td>\n",
       "      <td>veillonella_raw</td>\n",
       "      <td>False</td>\n",
       "      <td>unicycler</td>\n",
       "      <td>1472</td>\n",
       "      <td>368</td>\n",
       "    </tr>\n",
       "    <tr>\n",
       "      <th>10</th>\n",
       "      <td>seqkit_sort</td>\n",
       "      <td>0.121189</td>\n",
       "      <td>4</td>\n",
       "      <td>00:00:03</td>\n",
       "      <td>00:00:12</td>\n",
       "      <td>veillonella_raw</td>\n",
       "      <td>False</td>\n",
       "      <td>unicycler</td>\n",
       "      <td>12</td>\n",
       "      <td>3</td>\n",
       "    </tr>\n",
       "    <tr>\n",
       "      <th>11</th>\n",
       "      <td>sequana_coverage</td>\n",
       "      <td>1.632362</td>\n",
       "      <td>1</td>\n",
       "      <td>00:01:37</td>\n",
       "      <td>00:01:37</td>\n",
       "      <td>veillonella_raw</td>\n",
       "      <td>False</td>\n",
       "      <td>unicycler</td>\n",
       "      <td>97</td>\n",
       "      <td>97</td>\n",
       "    </tr>\n",
       "    <tr>\n",
       "      <th>12</th>\n",
       "      <td>unicycler</td>\n",
       "      <td>15.999413</td>\n",
       "      <td>8</td>\n",
       "      <td>00:01:49</td>\n",
       "      <td>00:14:32</td>\n",
       "      <td>veillonella_raw</td>\n",
       "      <td>False</td>\n",
       "      <td>unicycler</td>\n",
       "      <td>872</td>\n",
       "      <td>109</td>\n",
       "    </tr>\n",
       "    <tr>\n",
       "      <th>13</th>\n",
       "      <td>unicycler</td>\n",
       "      <td>20.007324</td>\n",
       "      <td>8</td>\n",
       "      <td>00:36:38</td>\n",
       "      <td>04:53:04</td>\n",
       "      <td>veillonella_raw</td>\n",
       "      <td>False</td>\n",
       "      <td>unicycler</td>\n",
       "      <td>17584</td>\n",
       "      <td>2198</td>\n",
       "    </tr>\n",
       "  </tbody>\n",
       "</table>\n",
       "<p>983 rows × 10 columns</p>\n",
       "</div>"
      ],
      "text/plain": [
       "                task  memory_gb  thread      time  cpu_time              exp  \\\n",
       "0            bam2bed   3.009937       4  00:01:02  00:04:08    cyanobacteria   \n",
       "1              busco   0.558689       4  00:00:27  00:01:48    cyanobacteria   \n",
       "2               canu   6.983616       1  02:42:46  02:42:46    cyanobacteria   \n",
       "3             checkm   1.079258       4  00:02:10  00:08:40    cyanobacteria   \n",
       "4      checkm_marker   0.420620       1  00:00:10  00:00:10    cyanobacteria   \n",
       "..               ...        ...     ...       ...       ...              ...   \n",
       "9              quast   3.999504       4  00:06:08  00:24:32  veillonella_raw   \n",
       "10       seqkit_sort   0.121189       4  00:00:03  00:00:12  veillonella_raw   \n",
       "11  sequana_coverage   1.632362       1  00:01:37  00:01:37  veillonella_raw   \n",
       "12         unicycler  15.999413       8  00:01:49  00:14:32  veillonella_raw   \n",
       "13         unicycler  20.007324       8  00:36:38  04:53:04  veillonella_raw   \n",
       "\n",
       "    circlator  assembler  cpu_time_seconds  time_seconds  \n",
       "0        True       canu               248            62  \n",
       "1        True       canu               108            27  \n",
       "2        True       canu              9766          9766  \n",
       "3        True       canu               520           130  \n",
       "4        True       canu                10            10  \n",
       "..        ...        ...               ...           ...  \n",
       "9       False  unicycler              1472           368  \n",
       "10      False  unicycler                12             3  \n",
       "11      False  unicycler                97            97  \n",
       "12      False  unicycler               872           109  \n",
       "13      False  unicycler             17584          2198  \n",
       "\n",
       "[983 rows x 10 columns]"
      ]
     },
     "execution_count": 5,
     "metadata": {},
     "output_type": "execute_result"
    }
   ],
   "source": [
    "dfs = []\n",
    "from tqdm import tqdm\n",
    "for x in [\n",
    "    \"bacteroide_fragilis\",\n",
    "    \"cyanobacteria\",\n",
    "    \"leishmania\",\n",
    "    \"streptococcus\",\n",
    "    \"veillonella_ccs\",\n",
    "    \"veillonella_raw\"]:\n",
    "    \n",
    "    methods = glob.glob(f\"metadata_resources/{x}/*\")\n",
    "    \n",
    "    for method in methods:\n",
    "        try:\n",
    "            df = pd.read_csv(f\"{method}/slurm_stats.txt\")\n",
    "            method = method.split(\"/\")[-1]\n",
    "            df['exp'] = x\n",
    "\n",
    "            df['circlator'] = False if 'nocirc' in method else True\n",
    "\n",
    "            \n",
    "            if method == 'lora':\n",
    "                df['assembler'] = 'canu'\n",
    "                df['circlator'] = True\n",
    "            elif method in ['lora_polish_paired', 'lora_polish_SE']:  \n",
    "                df['assembler'] = 'flye'\n",
    "            else:\n",
    "                name = method.split(\"_\")[0]\n",
    "                df['assembler'] = name\n",
    "            dfs.append(df)\n",
    "        except:\n",
    "            print(method)\n",
    "\n",
    "\n",
    "dfs = pd.concat(dfs)\n",
    "dfs['cpu_time_seconds'] = [utils.to_seconds(x) for x in dfs['cpu_time'].values]\n",
    "dfs['time_seconds'] = [utils.to_seconds(x) for x in dfs['time'].values]\n",
    "dfs"
   ]
  },
  {
   "cell_type": "markdown",
   "id": "3c64ed0b-e7b7-4529-afe3-33eda15e0a3c",
   "metadata": {},
   "source": [
    "# cleanup of pecat/necat and build simplified dataframe\n"
   ]
  },
  {
   "cell_type": "code",
   "execution_count": 6,
   "id": "c658842e-2060-4394-9e3a-77f0673c5422",
   "metadata": {},
   "outputs": [],
   "source": [
    "columns = ['exp', 'assembler', 'circlator']\n",
    "tokeep = ['cpu_time_seconds']\n",
    "dd_cpu_times = pd.concat([\n",
    "    dfs.query(\"task in ['necat_bridge', 'necat_assemble', 'necat_correct']\").groupby(columns).sum()[tokeep].reset_index(),\n",
    "    dfs.query(\"task in ['pecat_correct', 'pecat_assemble']\").groupby(columns).sum()[tokeep].reset_index(),\n",
    "    dfs.query(\"task in ['hifiasm']\").groupby(columns).sum()[tokeep].reset_index(),\n",
    "    dfs.query(\"task in ['unicycler']\").groupby(columns).sum()[tokeep].reset_index(),\n",
    "    dfs.query(\"task in ['canu']\").groupby(columns).sum()[tokeep].reset_index(),\n",
    "    dfs.query(\"task in ['flye']\").groupby(columns).sum()[tokeep].reset_index()])"
   ]
  },
  {
   "cell_type": "code",
   "execution_count": 7,
   "id": "c2694e84-2aa0-4c70-ba6a-7913edc39653",
   "metadata": {},
   "outputs": [
    {
     "data": {
      "text/plain": [
       "[<matplotlib.lines.Line2D at 0x7f7d7f874850>]"
      ]
     },
     "execution_count": 7,
     "metadata": {},
     "output_type": "execute_result"
    }
   ],
   "source": [
    "\n",
    "sns.boxplot(\n",
    "    data=dd_cpu_times,\n",
    "    x='assembler',\n",
    "    y='cpu_time_seconds', \n",
    "    order=[\"canu\", \"flye\", \"hifiasm\", \"necat\", \"pecat\", \"unicycler\"]\n",
    ")\n",
    "gca().set_yscale(\"log\")\n",
    "axhline(3600, ls='--', color='r')\n",
    "axhline(3600*12, ls='--', color='r')\n",
    "\n",
    "plot([1,3,4,5], [259000, 53588, 498360, 223872], 'xr')"
   ]
  },
  {
   "cell_type": "code",
   "execution_count": 8,
   "id": "0749a9dc-13cb-4c23-8ff7-01931e92756f",
   "metadata": {},
   "outputs": [],
   "source": [
    "columns = ['exp', 'assembler', 'circlator']\n",
    "tokeep = ['memory_gb']\n",
    "dd_memory = pd.concat([\n",
    "    dfs.query(\"task in ['necat_bridge', 'necat_assemble', 'necat_correct']\").groupby(columns).max()[tokeep].reset_index(),\n",
    "    dfs.query(\"task in ['pecat_correct', 'pecat_assemble']\").groupby(columns).max()[tokeep].reset_index(),\n",
    "    dfs.query(\"task in ['hifiasm']\").groupby(columns).max()[tokeep].reset_index(),\n",
    "    dfs.query(\"task in ['unicycler']\").groupby(columns).max()[tokeep].reset_index(),\n",
    "    dfs.query(\"task in ['canu']\").groupby(columns).max()[tokeep].reset_index(),\n",
    "    dfs.query(\"task in ['flye']\").groupby(columns).max()[tokeep].reset_index()])"
   ]
  },
  {
   "cell_type": "code",
   "execution_count": 9,
   "id": "c8e4a22e-23f5-4c4d-9eb5-9339c2e3430a",
   "metadata": {},
   "outputs": [
    {
     "name": "stderr",
     "output_type": "stream",
     "text": [
      "/tmp/ipykernel_169243/3784995482.py:12: UserWarning:\n",
      "\n",
      "Attempt to set non-positive ylim on a log-scaled axis will be ignored.\n",
      "\n"
     ]
    }
   ],
   "source": [
    "sns.boxplot(\n",
    "    data=dd_memory,\n",
    "    x='assembler',\n",
    "    y='memory_gb', \n",
    "    order=[\"canu\", \"flye\", \"hifiasm\", \"necat\", \"pecat\", \"unicycler\"]\n",
    ")\n",
    "ax = gca()\n",
    "ax.set_xlabel(\"Assembler\", fontsize=16)            # new label for the x-axis\n",
    "ax.set_ylabel(\"Max memory usage (Gb)\", fontsize=16)  \n",
    "plot([1,3,4,5], [27.6, 29.6,32, 64], 'xr', label=\"leishmania runs\")\n",
    "legend()\n",
    "_ = ylim([0, 65])"
   ]
  },
  {
   "cell_type": "code",
   "execution_count": 10,
   "id": "4544d98c-154c-41fd-9676-f923c4d54e73",
   "metadata": {},
   "outputs": [],
   "source": [
    "dd_merge = pd.merge(dd_cpu_times, dd_memory, on=columns)\n"
   ]
  },
  {
   "cell_type": "code",
   "execution_count": 11,
   "id": "5be89ac3-8fa4-41f4-be97-b9888b1d2e7e",
   "metadata": {},
   "outputs": [
    {
     "name": "stderr",
     "output_type": "stream",
     "text": [
      "The PostScript backend does not support transparency; partially transparent artists will be rendered opaque.\n"
     ]
    }
   ],
   "source": [
    "rcParams[\"figure.figsize\"] = (8,8)\n",
    "\n",
    "sns.scatterplot(\n",
    "    data=dd_merge.query(\"circlator == True\"),\n",
    "    x=\"cpu_time_seconds\",\n",
    "    y=\"memory_gb\",\n",
    "    hue=\"exp\",      # or hue=\"assembler\"\n",
    "    style=\"exp\",\n",
    "    s=100,\n",
    "    zorder=10\n",
    ")\n",
    "semilogx()\n",
    "semilogy()\n",
    "xlabel(\"time (seconds)\", fontsize=16)\n",
    "ylabel(\"Memory(Gb)\", fontsize=16)\n",
    "_ = legend(title=\"Experiment\", fontsize=15, loc=\"upper left\")\n",
    "tick_params(axis=\"both\", labelsize=14)   # 14 pt tick labels\n",
    "gca().set_yscale(\"log\", base=2)   # <-- base=2\n",
    "grid()\n",
    "ylim([1,68])\n",
    "xlim([100,1e6])\n",
    "yticks([1,2,4,8,16,32,64\n",
    "    ],[1,2,4,8,16,32,64])\n",
    "utils.saveall(\"paper_images/figure_memory_time_versus_experiment\")\n",
    "\n"
   ]
  },
  {
   "cell_type": "code",
   "execution_count": 12,
   "id": "ede42cc5-3e58-42cc-9fc6-deed26cfdffa",
   "metadata": {},
   "outputs": [
    {
     "name": "stderr",
     "output_type": "stream",
     "text": [
      "The PostScript backend does not support transparency; partially transparent artists will be rendered opaque.\n"
     ]
    }
   ],
   "source": [
    "rcParams[\"figure.figsize\"] = (8,8)\n",
    "sns.scatterplot(\n",
    "    data=dd_merge.query(\"circlator == True\"),\n",
    "    x=\"cpu_time_seconds\",\n",
    "    y=\"memory_gb\",\n",
    "    hue=\"assembler\",      # or hue=\"assembler\"\n",
    "    style=\"assembler\",      # optional: use markers for assembler\n",
    "    s=100,\n",
    "    zorder=10,\n",
    "    hue_order = ['canu','flye','hifiasm','necat','pecat','unicycler'],\n",
    "    #markers={'canu':'o'},\n",
    "    )\n",
    "semilogx()\n",
    "semilogy()\n",
    "xlabel(\"time (seconds)\", fontsize=16)\n",
    "ylabel(\"Memory(Gb)\", fontsize=16)\n",
    "legend(title=\"Assembler\", fontsize=16, loc=\"upper left\")\n",
    "tick_params(axis=\"both\", labelsize=14)   # 14 pt tick labels\n",
    "ylim([1,68])\n",
    "xlim([100,1e6])\n",
    "gca().set_yscale(\"log\", base=2)   # <-- base=2\n",
    "yticks([1,2,4,8,16,32,64\n",
    "    ],[1,2,4,8,16,32,64])\n",
    "grid()\n",
    "utils.saveall(\"paper_images/figure_memory_time_versus_assembler\")\n"
   ]
  },
  {
   "cell_type": "markdown",
   "id": "ef4d8669-8edb-46af-8417-3efa2dc45420",
   "metadata": {},
   "source": [
    "## distribution time. canu, then circlator and ccs "
   ]
  },
  {
   "cell_type": "code",
   "execution_count": 13,
   "id": "8e51467f-3e46-4a58-b36b-c6ad9dd3a58b",
   "metadata": {},
   "outputs": [
    {
     "name": "stderr",
     "output_type": "stream",
     "text": [
      "/tmp/ipykernel_169243/2887042256.py:5: UserWarning:\n",
      "\n",
      "Attempt to set non-positive xlim on a log-scaled axis will be ignored.\n",
      "\n",
      "/tmp/ipykernel_169243/2887042256.py:5: UserWarning:\n",
      "\n",
      "Attempt to set non-positive ylim on a log-scaled axis will be ignored.\n",
      "\n",
      "The PostScript backend does not support transparency; partially transparent artists will be rendered opaque.\n"
     ]
    }
   ],
   "source": [
    "rcParams[\"figure.figsize\"] = (6,6)\n",
    "data = dfs.query(\"cpu_time_seconds>=120 and assembler=='flye' and circlator == True and exp=='leishmania'\")\n",
    "tasks = data.task.values\n",
    "\n",
    "_ = pie(data['cpu_time_seconds'].values, labels=tasks,explode=[0.01]*len(tasks))\n",
    "_ = title(\"Leishmania -- no CCS, no circularisation\", fontsize=14)\n",
    "utils.saveall(\"paper_images/pie_chart_1\")\n",
    "\n",
    "clf()\n",
    "data = dfs.query(\"time_seconds>120 and assembler=='flye' and circlator == True and exp=='veillonella_ccs'\")\n",
    "# merge the CCS tasks\n",
    "mask = data[\"task\"] == \"ccs\"\n",
    "summed_row = pd.DataFrame([{\"task\": \"ccs\", \"cpu_time_seconds\": data.loc[mask, \"cpu_time_seconds\"].sum()}])\n",
    "data = pd.concat([data.loc[~mask], summed_row], ignore_index=True)\n",
    "tasks = data.task.values\n",
    "_ = pie(data['cpu_time_seconds'].values, labels=tasks, explode=[0.01]*len(tasks))\n",
    "_ = title(\"Veillonella with CCS \", fontsize=14)\n",
    "utils.saveall(\"paper_images/pie_chart_2\")\n",
    "\n"
   ]
  },
  {
   "cell_type": "code",
   "execution_count": null,
   "id": "01516a4a-966c-4a14-8fbe-d4aae66cebbf",
   "metadata": {},
   "outputs": [],
   "source": []
  }
 ],
 "metadata": {
  "kernelspec": {
   "display_name": "Python 3 (ipykernel)",
   "language": "python",
   "name": "python3"
  },
  "language_info": {
   "codemirror_mode": {
    "name": "ipython",
    "version": 3
   },
   "file_extension": ".py",
   "mimetype": "text/x-python",
   "name": "python",
   "nbconvert_exporter": "python",
   "pygments_lexer": "ipython3",
   "version": "3.10.14"
  }
 },
 "nbformat": 4,
 "nbformat_minor": 5
}
